{
 "cells": [
  {
   "cell_type": "code",
   "execution_count": null,
   "metadata": {},
   "outputs": [],
   "source": [
    "import csv\n",
    "import os\n",
    "import pandas as pd\n",
    "import yaml"
   ]
  },
  {
   "cell_type": "code",
   "execution_count": null,
   "metadata": {},
   "outputs": [],
   "source": [
    "# Setup Reference Variables\n",
    "path_to_raw_csv = 'data/raw_banking_export/'\n",
    "source_file = sorted(os.listdir(os.path.abspath(path_to_raw_csv)), reverse=True)[0]\n",
    "print(source_file)\n",
    "full_source_path = f'{path_to_raw_csv}/{source_file}'\n",
    "print(full_source_path)\n",
    "working_filepath = 'data/working/working.csv'\n",
    "\n",
    "config_path = 'config/config.yaml'\n",
    "start_date = '2024-02-29'"
   ]
  },
  {
   "cell_type": "code",
   "execution_count": null,
   "metadata": {},
   "outputs": [],
   "source": [
    "# Read Config\n",
    "config = {}\n",
    "with open(config_path, 'r') as f:\n",
    "    config = yaml.safe_load(f)"
   ]
  },
  {
   "cell_type": "code",
   "execution_count": null,
   "metadata": {},
   "outputs": [],
   "source": [
    "# Reformat the exported transactions to only have meaningful data\n",
    "with open(full_source_path, 'r') as f:\n",
    "    csv_reader = csv.reader(f)\n",
    "    with open(working_filepath, 'w') as fw:\n",
    "        csv_writer = csv.writer(fw)\n",
    "        writing = False\n",
    "        for r in csv_reader:\n",
    "            if 'Account' in r:\n",
    "                writing = True\n",
    "\n",
    "            if writing:\n",
    "                csv_writer.writerow(r[1:])\n"
   ]
  },
  {
   "cell_type": "code",
   "execution_count": null,
   "metadata": {},
   "outputs": [],
   "source": [
    "# Read in the working CSV that was just created\n",
    "df = pd.read_csv(working_filepath, na_values=['0', 'NULL', 'NA'])\n",
    "# Convert Datatypes\n",
    "df['Amount'] = df['Amount'].str.replace(',', '')\n",
    "df['Amount'] = pd.to_numeric(df['Amount'])\n",
    "df['Date'] = pd.to_datetime(df['Date'], format='mixed')\n",
    "\n",
    "# df.head()"
   ]
  },
  {
   "cell_type": "code",
   "execution_count": null,
   "metadata": {},
   "outputs": [],
   "source": [
    "# Get only dates after 2/29/24\n",
    "df = df[df['Date'] >= pd.to_datetime(start_date)]\n",
    "\n",
    "# df.sort_values(by=['Date'], ascending=False).head(20)"
   ]
  },
  {
   "cell_type": "code",
   "execution_count": null,
   "metadata": {},
   "outputs": [],
   "source": [
    "# Get only transactions from relevant accounts\n",
    "account_list = []\n",
    "for accounts in config['accounts']:\n",
    "    account_list.append(accounts['account'])\n",
    "df = df[df['Account'].isin(account_list)]\n",
    "\n",
    "# df.head()"
   ]
  },
  {
   "cell_type": "code",
   "execution_count": null,
   "metadata": {},
   "outputs": [],
   "source": [
    "# Get only cleared transactions\n",
    "df = df[df['Clr'] == 'R']\n",
    "\n",
    "# df.head()"
   ]
  },
  {
   "cell_type": "code",
   "execution_count": null,
   "metadata": {},
   "outputs": [],
   "source": [
    "# Clean data\n",
    "df['Memo/Notes'] = df['Memo/Notes'].fillna('')\n",
    "df['FITID'] = df['FITID'].fillna('')\n",
    "df['Payee'] = df['Payee'].str.replace('{', ' - ').str.replace('}', '')\n",
    "df['Split'] = df['Split'].fillna('')\n",
    "df['Scheduled'] = df['Scheduled'].fillna('')\n",
    "\n",
    "# df.head(20)"
   ]
  },
  {
   "cell_type": "code",
   "execution_count": null,
   "metadata": {},
   "outputs": [],
   "source": [
    "# Set the Category to the last item in the split on :\n",
    "df['Category'] = df['Category'].str.split(':').str[-1]\n",
    "\n",
    "# df.head()"
   ]
  },
  {
   "cell_type": "code",
   "execution_count": null,
   "metadata": {},
   "outputs": [],
   "source": [
    "# Create a column to be used in split aggs\n",
    "df['Memo/Notes'] = df.apply(\n",
    "    lambda x: \n",
    "        f\"{x['Category']} {x['Amount']} ({x['Memo/Notes']})\"\n",
    "        if (x['Split'] == 'S' and x['Memo/Notes'] != '')\n",
    "        else (\n",
    "            f\"{x['Category']} {x['Amount']}\" \n",
    "            if x['Split'] == 'S'\n",
    "            else x['Memo/Notes']\n",
    "        ),\n",
    "    axis='columns'\n",
    ")\n",
    "\n",
    "# df.head(20)"
   ]
  },
  {
   "cell_type": "code",
   "execution_count": null,
   "metadata": {},
   "outputs": [],
   "source": [
    "# Group by FITID to resolve Splits\n",
    "df = df.groupby(['Date', 'Account', 'Payee', 'FITID']) \\\n",
    "    .agg({\n",
    "        \"Category\": \"|\".join,\n",
    "        \"Amount\": \"sum\",\n",
    "        \"Memo/Notes\": \"|\".join\n",
    "        }) \\\n",
    "    .reset_index() \\\n",
    "    .round(2)\n",
    "\n",
    "# df.sort_values(by=['Date'], ascending=False).head(20)"
   ]
  },
  {
   "cell_type": "code",
   "execution_count": null,
   "metadata": {},
   "outputs": [],
   "source": [
    "# Set category for income payees\n",
    "df['Category'] = df.apply(\n",
    "    lambda x: 'Income' if x['Payee'] in config['income_payees'] else x['Category'],\n",
    "    axis='columns'\n",
    ")\n",
    "\n",
    "# df.head(20)"
   ]
  },
  {
   "cell_type": "code",
   "execution_count": null,
   "metadata": {},
   "outputs": [],
   "source": [
    "# Clean up Transfers\n",
    "df['Payee'] = df.apply(\n",
    "    lambda x: x['Category'].replace('[', '').replace(']', '') if ('[' in x['Category'] and ']' in x['Category']) else x['Payee'],\n",
    "    axis='columns'\n",
    ")\n",
    "\n",
    "df['Category'] = df.apply(\n",
    "    lambda x: 'Transfer' if ('[' in x['Category'] and ']' in x['Category']) else x['Category'],\n",
    "    axis='columns'\n",
    ")"
   ]
  },
  {
   "cell_type": "code",
   "execution_count": null,
   "metadata": {},
   "outputs": [],
   "source": [
    "# Rename headers\n",
    "df = df.rename(columns={\n",
    "    'Date': 'date',\n",
    "    'Account': 'account',\n",
    "    'Payee': 'payee',\n",
    "    'Memo/Notes': 'notes',\n",
    "    'Category': 'category',\n",
    "    'Amount': 'amount',\n",
    "    'FITID': 'fitid'\n",
    "    })\n",
    "\n",
    "# df.head(50)"
   ]
  },
  {
   "cell_type": "code",
   "execution_count": null,
   "metadata": {},
   "outputs": [],
   "source": [
    "# Write the new full dataset to CSV\n",
    "print(f\"{os.path.abspath('data/processed/')}/full.csv\")\n",
    "df.to_csv(f\"{os.path.abspath('data/processed/')}/full.csv\", index=False)\n",
    "\n",
    "# Write individual files out\n",
    "for account in df['account'].unique():\n",
    "    print(account)\n",
    "    new_df = df[df['account'] == account]\n",
    "    final_df = new_df[['date', 'payee', 'notes', 'category', 'amount']]\n",
    "    final_df.to_csv(f\"{os.path.abspath('data/processed/')}/{account}.csv\".replace(' ', '').replace(\"'\", ''), index=False)\n"
   ]
  }
 ],
 "metadata": {
  "kernelspec": {
   "display_name": "quicken-to-actual-YUVTTe0m",
   "language": "python",
   "name": "python3"
  },
  "language_info": {
   "codemirror_mode": {
    "name": "ipython",
    "version": 3
   },
   "file_extension": ".py",
   "mimetype": "text/x-python",
   "name": "python",
   "nbconvert_exporter": "python",
   "pygments_lexer": "ipython3",
   "version": "3.11.7"
  }
 },
 "nbformat": 4,
 "nbformat_minor": 2
}
